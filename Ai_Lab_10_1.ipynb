{
  "nbformat": 4,
  "nbformat_minor": 0,
  "metadata": {
    "colab": {
      "provenance": [],
      "authorship_tag": "ABX9TyPoG8S6hnAWe/GGtAQdM8LB",
      "include_colab_link": true
    },
    "kernelspec": {
      "name": "python3",
      "display_name": "Python 3"
    },
    "language_info": {
      "name": "python"
    }
  },
  "cells": [
    {
      "cell_type": "markdown",
      "metadata": {
        "id": "view-in-github",
        "colab_type": "text"
      },
      "source": [
        "<a href=\"https://colab.research.google.com/github/AYANSHVERMA05/Ai-Assisted-Coding-/blob/main/Ai_Lab_10_1.ipynb\" target=\"_parent\"><img src=\"https://colab.research.google.com/assets/colab-badge.svg\" alt=\"Open In Colab\"/></a>"
      ]
    },
    {
      "cell_type": "code",
      "execution_count": 1,
      "metadata": {
        "colab": {
          "base_uri": "https://localhost:8080/"
        },
        "id": "s_KrPFJkfnZO",
        "outputId": "46c48db9-9ff1-4ee9-c0c5-a5a0af0be198"
      },
      "outputs": [
        {
          "output_type": "stream",
          "name": "stdout",
          "text": [
            "Average Score is  86.25\n"
          ]
        }
      ],
      "source": [
        "# Calculate average score of a student\n",
        "def calc_average(marks):\n",
        "    total = 0\n",
        "    for m in marks:\n",
        "        total += m\n",
        "    average = total / len(marks)\n",
        "    return average # Corrected typo here\n",
        "marks = [85, 90, 78, 92]\n",
        "print(\"Average Score is \", calc_average(marks)) # Added missing parenthesis"
      ]
    },
    {
      "cell_type": "code",
      "source": [
        "def area_of_rect(L, B):\n",
        "    return L * B\n",
        "\n",
        "print(area_of_rect(10, 20))"
      ],
      "metadata": {
        "colab": {
          "base_uri": "https://localhost:8080/"
        },
        "id": "7qx5vrDmg1Ci",
        "outputId": "7ae93772-8586-4c1a-e80f-3ad716df2f74"
      },
      "execution_count": 2,
      "outputs": [
        {
          "output_type": "stream",
          "name": "stdout",
          "text": [
            "200\n"
          ]
        }
      ]
    },
    {
      "cell_type": "code",
      "source": [
        "def calculate_percentage(value, percentage):\n",
        "    return (value * percentage) / 100\n",
        "\n",
        "total_value = 200\n",
        "percent = 15\n",
        "print(calculate_percentage(total_value, percent))"
      ],
      "metadata": {
        "colab": {
          "base_uri": "https://localhost:8080/"
        },
        "id": "jcFNNAyDhYFq",
        "outputId": "e7db6d42-7208-4c00-cab1-9df9690237c3"
      },
      "execution_count": 3,
      "outputs": [
        {
          "output_type": "stream",
          "name": "stdout",
          "text": [
            "30.0\n"
          ]
        }
      ]
    },
    {
      "cell_type": "code",
      "source": [
        "students = [\"Alice\", \"Bob\", \"Charlie\"]\n",
        "\n",
        "def greet_student(name):\n",
        "    print(\"Welcome\", name)\n",
        "\n",
        "for student in students:\n",
        "    greet_student(student)"
      ],
      "metadata": {
        "colab": {
          "base_uri": "https://localhost:8080/"
        },
        "id": "FZy21n4Ah-aG",
        "outputId": "10755209-3b08-4345-c6a6-45ead92bac20"
      },
      "execution_count": 4,
      "outputs": [
        {
          "output_type": "stream",
          "name": "stdout",
          "text": [
            "Welcome Alice\n",
            "Welcome Bob\n",
            "Welcome Charlie\n"
          ]
        }
      ]
    },
    {
      "cell_type": "code",
      "source": [
        "# Find squares of numbers\n",
        "nums = [i for i in range(1,1000000)]\n",
        "squares = [n**2 for n in nums]\n",
        "print(len(squares))"
      ],
      "metadata": {
        "colab": {
          "base_uri": "https://localhost:8080/"
        },
        "id": "MyAk38P3i6Ni",
        "outputId": "23ce71b0-c2d1-4c15-8eb1-3224e61b662c"
      },
      "execution_count": 5,
      "outputs": [
        {
          "output_type": "stream",
          "name": "stdout",
          "text": [
            "999999\n"
          ]
        }
      ]
    },
    {
      "cell_type": "code",
      "source": [
        "def grade(score):\n",
        "    if score >= 90:\n",
        "        return \"A\"\n",
        "    elif score >= 80:\n",
        "        return \"B\"\n",
        "    elif score >= 70:\n",
        "        return \"C\"\n",
        "    elif score >= 60:\n",
        "        return \"D\"\n",
        "    else:\n",
        "        return \"F\"\n",
        "print(grade(95))"
      ],
      "metadata": {
        "colab": {
          "base_uri": "https://localhost:8080/"
        },
        "id": "LFbLhI8rjfpb",
        "outputId": "fe288b35-25de-4153-9e14-35a98a33ad15"
      },
      "execution_count": 10,
      "outputs": [
        {
          "output_type": "stream",
          "name": "stdout",
          "text": [
            "A\n"
          ]
        }
      ]
    }
  ]
}